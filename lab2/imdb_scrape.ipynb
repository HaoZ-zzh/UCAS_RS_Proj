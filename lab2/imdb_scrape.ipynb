{
 "cells": [
  {
   "cell_type": "code",
   "execution_count": null,
   "id": "f5320088-57cb-439e-91b6-7d3faf748d0b",
   "metadata": {},
   "outputs": [],
   "source": [
    "import requests\n",
    "from requests.exceptions import RequestException\n",
    "from contextlib import closing\n",
    "from bs4 import BeautifulSoup\n",
    "import csv"
   ]
  },
  {
   "cell_type": "code",
   "execution_count": 20,
   "id": "c86e72bb-722e-4f7e-9e4e-c5955290f9c0",
   "metadata": {},
   "outputs": [
    {
     "name": "stdout",
     "output_type": "stream",
     "text": [
      "-1\n"
     ]
    }
   ],
   "source": [
    "# test_url = \"https://www.imdb.com/search/title/?title_type=feature&release_date=2000-01-01,2024-03-31&user_rating=1,10&num_votes=500,\"\n",
    "test_url = \"https://www.imdb.com/title/tt0002145/\"\n",
    "headers = {\n",
    "    'User-Agent': 'Mozilla/5.0 (Windows NT 10.0; Win64; x64) AppleWebKit/537.36 (KHTML, like Gecko) Chrome/124.0.0.0 Safari/537.36 Edg/124.0.0.0'\n",
    "}\n",
    "raw_html = requests.get(test_url, headers=headers)\n",
    "# print(raw_html.text)\n",
    "\n",
    "\n",
    "xpath1 = '/html/body/div[2]/main/div/section[1]/section/div[3]/section/section/div[3]/div/div[1]/section/div[2]/div/ul/li[2]/div/ul/li[1]/a/text()'\n",
    "# 定位xpath1\n",
    "print(raw_html.text.find(xpath1))"
   ]
  },
  {
   "cell_type": "code",
   "execution_count": null,
   "id": "20ec33a4-17bc-4167-add9-8442d1fe5811",
   "metadata": {},
   "outputs": [],
   "source": []
  }
 ],
 "metadata": {
  "kernelspec": {
   "display_name": "Python 3 (ipykernel)",
   "language": "python",
   "name": "python3"
  },
  "language_info": {
   "codemirror_mode": {
    "name": "ipython",
    "version": 3
   },
   "file_extension": ".py",
   "mimetype": "text/x-python",
   "name": "python",
   "nbconvert_exporter": "python",
   "pygments_lexer": "ipython3",
   "version": "3.11.7"
  }
 },
 "nbformat": 4,
 "nbformat_minor": 5
}
