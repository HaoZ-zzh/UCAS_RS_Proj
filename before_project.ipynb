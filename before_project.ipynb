{
 "cells": [
  {
   "cell_type": "code",
   "execution_count": 1,
   "id": "e2159124-11e3-4d51-bc4e-df5620e8effc",
   "metadata": {},
   "outputs": [
    {
     "name": "stdout",
     "output_type": "stream",
     "text": [
      "Defaulting to user installation because normal site-packages is not writeable\n",
      "Collecting pandas\n",
      "  Downloading pandas-2.2.1-cp310-cp310-manylinux_2_17_x86_64.manylinux2014_x86_64.whl (13.0 MB)\n",
      "\u001b[2K     \u001b[38;2;114;156;31m━━━━━━━━━━━━━━━━━━━━━━━━━━━━━━━━━━━━━━━━\u001b[0m \u001b[32m13.0/13.0 MB\u001b[0m \u001b[31m2.0 MB/s\u001b[0m eta \u001b[36m0:00:00\u001b[0mm eta \u001b[36m0:00:01\u001b[0m[36m0:00:01\u001b[0m\n",
      "\u001b[?25hRequirement already satisfied: numpy in /usr/local/lib/python3.10/dist-packages (1.26.4)\n",
      "Collecting scikit-learn\n",
      "  Downloading scikit_learn-1.4.1.post1-cp310-cp310-manylinux_2_17_x86_64.manylinux2014_x86_64.whl (12.1 MB)\n",
      "\u001b[2K     \u001b[38;2;114;156;31m━━━━━━━━━━━━━━━━━━━━━━━━━━━━━━━━━━━━━━━━\u001b[0m \u001b[32m12.1/12.1 MB\u001b[0m \u001b[31m2.2 MB/s\u001b[0m eta \u001b[36m0:00:00\u001b[0mm eta \u001b[36m0:00:01\u001b[0m[36m0:00:01\u001b[0m\n",
      "\u001b[?25hRequirement already satisfied: pytz>=2020.1 in /usr/lib/python3/dist-packages (from pandas) (2022.1)\n",
      "Collecting tzdata>=2022.7\n",
      "  Downloading tzdata-2024.1-py2.py3-none-any.whl (345 kB)\n",
      "\u001b[2K     \u001b[38;2;114;156;31m━━━━━━━━━━━━━━━━━━━━━━━━━━━━━━━━━━━━━━━\u001b[0m \u001b[32m345.4/345.4 KB\u001b[0m \u001b[31m2.4 MB/s\u001b[0m eta \u001b[36m0:00:00\u001b[0m MB/s\u001b[0m eta \u001b[36m0:00:01\u001b[0m:01\u001b[0m\n",
      "\u001b[?25hRequirement already satisfied: python-dateutil>=2.8.2 in /usr/local/lib/python3.10/dist-packages (from pandas) (2.9.0.post0)\n",
      "Collecting joblib>=1.2.0\n",
      "  Downloading joblib-1.3.2-py3-none-any.whl (302 kB)\n",
      "\u001b[2K     \u001b[38;2;114;156;31m━━━━━━━━━━━━━━━━━━━━━━━━━━━━━━━━━━━━━━━\u001b[0m \u001b[32m302.2/302.2 KB\u001b[0m \u001b[31m2.4 MB/s\u001b[0m eta \u001b[36m0:00:00\u001b[0m[31m2.4 MB/s\u001b[0m eta \u001b[36m0:00:01\u001b[0m\n",
      "\u001b[?25hCollecting scipy>=1.6.0\n",
      "  Downloading scipy-1.12.0-cp310-cp310-manylinux_2_17_x86_64.manylinux2014_x86_64.whl (38.4 MB)\n",
      "\u001b[2K     \u001b[38;2;114;156;31m━━━━━━━━━━━━━━━━━━━━━━━━━━━━━━━━━━━━━━━━\u001b[0m \u001b[32m38.4/38.4 MB\u001b[0m \u001b[31m2.0 MB/s\u001b[0m eta \u001b[36m0:00:00\u001b[0mm eta \u001b[36m0:00:01\u001b[0m[36m0:00:01\u001b[0m\n",
      "\u001b[?25hCollecting threadpoolctl>=2.0.0\n",
      "  Downloading threadpoolctl-3.4.0-py3-none-any.whl (17 kB)\n",
      "Requirement already satisfied: six>=1.5 in /usr/lib/python3/dist-packages (from python-dateutil>=2.8.2->pandas) (1.16.0)\n",
      "Installing collected packages: tzdata, threadpoolctl, scipy, joblib, scikit-learn, pandas\n",
      "Successfully installed joblib-1.3.2 pandas-2.2.1 scikit-learn-1.4.1.post1 scipy-1.12.0 threadpoolctl-3.4.0 tzdata-2024.1\n"
     ]
    }
   ],
   "source": [
    "!pip install pandas numpy scikit-learn"
   ]
  },
  {
   "cell_type": "code",
   "execution_count": 3,
   "id": "fc12d4af-c4e3-4899-a263-042edff4f525",
   "metadata": {},
   "outputs": [],
   "source": [
    "import pandas as pd\n",
    "\n",
    "# 载入训练集数据\n",
    "df_train = pd.read_csv('dataset/All_Beauty.train.csv')\n",
    "\n",
    "# 载入测试集数据\n",
    "df_test = pd.read_csv('dataset/All_Beauty.test.csv')\n",
    "\n",
    "# 载入验证集数据\n",
    "df_valid = pd.read_csv('dataset/All_Beauty.valid.csv')"
   ]
  },
  {
   "cell_type": "code",
   "execution_count": 4,
   "id": "3593c8f7-0506-4cc3-890c-f413a9e839b0",
   "metadata": {},
   "outputs": [
    {
     "name": "stdout",
     "output_type": "stream",
     "text": [
      "                        user_id parent_asin  rating      timestamp  \\\n",
      "0  AFSKPY37N3C43SOI5IEXEK5JSIYA  B00JMDPK8S     3.0  1404402463000   \n",
      "1  AFSKPY37N3C43SOI5IEXEK5JSIYA  B01M7UMAUG     5.0  1508770624887   \n",
      "2  AFSKPY37N3C43SOI5IEXEK5JSIYA  B07J3GH1W1     5.0  1547589356557   \n",
      "3  AFSKPY37N3C43SOI5IEXEK5JSIYA  B07GDQPG12     5.0  1547589843451   \n",
      "4  AFSKPY37N3C43SOI5IEXEK5JSIYA  B07W397QG4     5.0  1593352422858   \n",
      "\n",
      "                                       history  \n",
      "0                                          NaN  \n",
      "1                                   B00JMDPK8S  \n",
      "2                        B00JMDPK8S B01M7UMAUG  \n",
      "3             B00JMDPK8S B01M7UMAUG B07J3GH1W1  \n",
      "4  B00JMDPK8S B01M7UMAUG B07J3GH1W1 B07GDQPG12  \n",
      "                        user_id parent_asin  rating      timestamp     history\n",
      "0  AGKHLEW2SOWHNMFQIJGBECAF7INQ  B00YQ6X8EO     5.0  1588687728923  B081TJ8YS3\n",
      "1  AE74DYR3QUGVPZJ3P7RFWBGIX7XQ  B097R46CSY     5.0  1589665266052         NaN\n",
      "2  AFQLNQNQYFWQZPJQZS6V3NZU4QBQ  B09JS339BZ     1.0  1643393630220  B08BZ63GMJ\n",
      "3  AGMJ3EMDVL6OWBJF7CA5RGJLXN5A  B00R8DXL44     4.0  1598567408138         NaN\n",
      "4  AHREXOGQPZDA6354MHH4ETSF3MCQ  B099DRHW5V     5.0  1631885519443         NaN\n",
      "                        user_id parent_asin  rating      timestamp  \\\n",
      "0  AGKHLEW2SOWHNMFQIJGBECAF7INQ  B081TJ8YS3     4.0  1588615855070   \n",
      "1  AFQLNQNQYFWQZPJQZS6V3NZU4QBQ  B08BZ63GMJ     5.0  1609322563534   \n",
      "2  AFSKPY37N3C43SOI5IEXEK5JSIYA  B086QY6T7N     5.0  1626614511145   \n",
      "3  AHGAOIZVODNHYMNCBV4DECZH42UQ  B077SRDVG9     3.0  1522091824726   \n",
      "4  AFZUK3MTBIBEDQOPAK3OATUOUKLA  B00946HGLW     5.0  1596901440832   \n",
      "\n",
      "                                             history  \n",
      "0                                                NaN  \n",
      "1                                                NaN  \n",
      "2  B00JMDPK8S B01M7UMAUG B07J3GH1W1 B07GDQPG12 B0...  \n",
      "3                                         B01AKTGHFW  \n",
      "4                              B0020MKBNW B082FLP15V  \n"
     ]
    }
   ],
   "source": [
    "# 查看训练集的前5行\n",
    "print(df_train.head())\n",
    "\n",
    "# 查看测试集的前5行\n",
    "print(df_test.head())\n",
    "\n",
    "# 查看验证集的前5行\n",
    "print(df_valid.head())"
   ]
  },
  {
   "cell_type": "code",
   "execution_count": 5,
   "id": "830e433a-3402-41aa-85c1-2f13baab6d1f",
   "metadata": {},
   "outputs": [
    {
     "name": "stdout",
     "output_type": "stream",
     "text": [
      "             rating     timestamp\n",
      "count  19120.000000  1.912000e+04\n",
      "mean       4.206276  1.562139e+12\n",
      "std        1.193380  7.423497e+10\n",
      "min        1.000000  1.042271e+12\n",
      "25%        4.000000  1.513538e+12\n",
      "50%        5.000000  1.587891e+12\n",
      "75%        5.000000  1.614036e+12\n",
      "max        5.000000  1.681575e+12\n",
      "              rating     timestamp\n",
      "count  631986.000000  6.319860e+05\n",
      "mean        3.945905  1.555616e+12\n",
      "std         1.508176  8.033061e+10\n",
      "min         1.000000  9.730527e+11\n",
      "25%         3.000000  1.502752e+12\n",
      "50%         5.000000  1.572617e+12\n",
      "75%         5.000000  1.615439e+12\n",
      "max         5.000000  1.694220e+12\n",
      "             rating     timestamp\n",
      "count  42823.000000  4.282300e+04\n",
      "mean       4.069005  1.538776e+12\n",
      "std        1.387366  7.636443e+10\n",
      "min        1.000000  1.040959e+12\n",
      "25%        3.000000  1.484154e+12\n",
      "50%        5.000000  1.550111e+12\n",
      "75%        5.000000  1.597962e+12\n",
      "max        5.000000  1.693244e+12\n"
     ]
    }
   ],
   "source": [
    "# 查看训练集的统计信息\n",
    "print(df_train.describe())\n",
    "\n",
    "# 查看测试集的统计信息\n",
    "print(df_test.describe())\n",
    "\n",
    "# 查看验证集的统计信息\n",
    "print(df_valid.describe())"
   ]
  },
  {
   "cell_type": "code",
   "execution_count": 6,
   "id": "c77f89e3-b77e-42ec-a0eb-2802ad2d5807",
   "metadata": {},
   "outputs": [
    {
     "name": "stdout",
     "output_type": "stream",
     "text": [
      "user_id           0\n",
      "parent_asin       0\n",
      "rating            0\n",
      "timestamp         0\n",
      "history        8151\n",
      "dtype: int64\n",
      "user_id             0\n",
      "parent_asin         0\n",
      "rating              0\n",
      "timestamp           0\n",
      "history        589163\n",
      "dtype: int64\n",
      "user_id            0\n",
      "parent_asin        0\n",
      "rating             0\n",
      "timestamp          0\n",
      "history        34672\n",
      "dtype: int64\n"
     ]
    }
   ],
   "source": [
    "# 检查训练集中的缺失值\n",
    "print(df_train.isnull().sum())\n",
    "\n",
    "# 检查测试集中的缺失值\n",
    "print(df_test.isnull().sum())\n",
    "\n",
    "# 检查验证集中的缺失值\n",
    "print(df_valid.isnull().sum())"
   ]
  },
  {
   "cell_type": "code",
   "execution_count": 14,
   "id": "0c7b66c2-22c3-4696-bd98-aa75968a0eb3",
   "metadata": {},
   "outputs": [
    {
     "name": "stdout",
     "output_type": "stream",
     "text": [
      "{'asin': 'B00YQ6X8EO',\n",
      " 'helpful_vote': 0,\n",
      " 'images': [],\n",
      " 'parent_asin': 'B00YQ6X8EO',\n",
      " 'rating': 5.0,\n",
      " 'text': 'This spray is really nice. It smells really good, goes on really '\n",
      "         'fine, and does the trick. I will say it feels like you need a lot of '\n",
      "         'it though to get the texture I want. I have a lot of hair, medium '\n",
      "         'thickness. I am comparing to other brands with yucky chemicals so '\n",
      "         \"I'm gonna stick with this. Try it!\",\n",
      " 'timestamp': 1588687728923,\n",
      " 'title': 'Such a lovely scent but not overpowering.',\n",
      " 'user_id': 'AGKHLEW2SOWHNMFQIJGBECAF7INQ',\n",
      " 'verified_purchase': True}\n"
     ]
    }
   ],
   "source": [
    "import json\n",
    "from pprint import pprint\n",
    "\n",
    "dirpath = './dataset/'\n",
    "file =  \"All_Beauty.jsonl\"\n",
    "# 打开JSON Lines文件\n",
    "with open(dirpath + file, 'r', encoding='utf-8') as file:\n",
    "    # 读取并打印前两个JSON对象\n",
    "    for i in range(1):\n",
    "        line = file.readline()\n",
    "        if line:\n",
    "            json_obj = json.loads(line)\n",
    "            # print(f\"JSON Object {i+1}: {json_obj}\")\n",
    "            pprint(json_obj)\n",
    "            # pprint(json.dumps(json_obj, indent=4, sort_keys=True))\n",
    "        else:\n",
    "            # 如果文件中的行数少于2，打印提示信息\n",
    "            print(f\"End of file reached, only {i} JSON object(s) found.\")\n",
    "            break"
   ]
  },
  {
   "cell_type": "code",
   "execution_count": 15,
   "id": "67497dc3-61b3-4f8b-8be3-c3743719aac1",
   "metadata": {},
   "outputs": [
    {
     "name": "stdout",
     "output_type": "stream",
     "text": [
      "{'average_rating': 4.8,\n",
      " 'bought_together': None,\n",
      " 'categories': [],\n",
      " 'description': [],\n",
      " 'details': {'Package Dimensions': '7.1 x 5.5 x 3 inches; 2.38 Pounds',\n",
      "             'UPC': '617390882781'},\n",
      " 'features': [],\n",
      " 'images': [{'hi_res': None,\n",
      "             'large': 'https://m.media-amazon.com/images/I/41qfjSfqNyL.jpg',\n",
      "             'thumb': 'https://m.media-amazon.com/images/I/41qfjSfqNyL._SS40_.jpg',\n",
      "             'variant': 'MAIN'},\n",
      "            {'hi_res': 'https://m.media-amazon.com/images/I/71i77AuI9xL._SL1500_.jpg',\n",
      "             'large': 'https://m.media-amazon.com/images/I/41w2yznfuZL.jpg',\n",
      "             'thumb': 'https://m.media-amazon.com/images/I/41w2yznfuZL._SS40_.jpg',\n",
      "             'variant': 'PT01'}],\n",
      " 'main_category': 'All Beauty',\n",
      " 'parent_asin': 'B01CUPMQZE',\n",
      " 'price': None,\n",
      " 'rating_number': 10,\n",
      " 'store': 'Howard Products',\n",
      " 'title': 'Howard LC0008 Leather Conditioner, 8-Ounce (4-Pack)',\n",
      " 'videos': []}\n"
     ]
    }
   ],
   "source": [
    "import json\n",
    "from pprint import pprint\n",
    "\n",
    "dirpath = './dataset/'\n",
    "file =  \"meta_All_Beauty.jsonl\"\n",
    "# 打开JSON Lines文件\n",
    "with open(dirpath + file, 'r', encoding='utf-8') as file:\n",
    "    # 读取并打印前两个JSON对象\n",
    "    for i in range(1):\n",
    "        line = file.readline()\n",
    "        if line:\n",
    "            json_obj = json.loads(line)\n",
    "            # print(f\"JSON Object {i+1}: {json_obj}\")\n",
    "            pprint(json_obj)\n",
    "            # pprint(json.dumps(json_obj, indent=4, sort_keys=True))\n",
    "        else:\n",
    "            # 如果文件中的行数少于2，打印提示信息\n",
    "            print(f\"End of file reached, only {i} JSON object(s) found.\")\n",
    "            break"
   ]
  }
 ],
 "metadata": {
  "kernelspec": {
   "display_name": "Python 3 (ipykernel)",
   "language": "python",
   "name": "python3"
  },
  "language_info": {
   "codemirror_mode": {
    "name": "ipython",
    "version": 3
   },
   "file_extension": ".py",
   "mimetype": "text/x-python",
   "name": "python",
   "nbconvert_exporter": "python",
   "pygments_lexer": "ipython3",
   "version": "3.10.12"
  }
 },
 "nbformat": 4,
 "nbformat_minor": 5
}
